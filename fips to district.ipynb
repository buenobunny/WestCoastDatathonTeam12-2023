{
 "cells": [
  {
   "cell_type": "code",
   "execution_count": 1,
   "id": "6ffc430c",
   "metadata": {},
   "outputs": [],
   "source": [
    "import pandas as pd\n",
    "import numpy as np"
   ]
  },
  {
   "cell_type": "code",
   "execution_count": 2,
   "id": "56d22fb7",
   "metadata": {},
   "outputs": [],
   "source": [
    "stations = pd.read_csv(\"./West Coast 2023 Datasets/Traffic, Investigations _ Other/police_stations.csv\")"
   ]
  },
  {
   "cell_type": "code",
   "execution_count": 4,
   "id": "7dc8eade",
   "metadata": {},
   "outputs": [],
   "source": [
    "stations[\"fips\"] = stations[\"fips\"].astype(\"Int64\")"
   ]
  },
  {
   "cell_type": "raw",
   "id": "d08baec3",
   "metadata": {},
   "source": [
    "stations"
   ]
  },
  {
   "cell_type": "code",
   "execution_count": null,
   "id": "70f841c1",
   "metadata": {},
   "outputs": [],
   "source": []
  }
 ],
 "metadata": {
  "kernelspec": {
   "display_name": "Python 3 (ipykernel)",
   "language": "python",
   "name": "python3"
  },
  "language_info": {
   "codemirror_mode": {
    "name": "ipython",
    "version": 3
   },
   "file_extension": ".py",
   "mimetype": "text/x-python",
   "name": "python",
   "nbconvert_exporter": "python",
   "pygments_lexer": "ipython3",
   "version": "3.8.3"
  }
 },
 "nbformat": 4,
 "nbformat_minor": 5
}
