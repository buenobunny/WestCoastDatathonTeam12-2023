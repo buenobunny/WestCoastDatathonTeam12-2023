{
 "cells": [
  {
   "cell_type": "code",
   "execution_count": 14,
   "id": "11cc03bf",
   "metadata": {},
   "outputs": [],
   "source": [
    "import pandas as pd\n",
    "import numpy as np"
   ]
  },
  {
   "cell_type": "code",
   "execution_count": 4,
   "id": "4ba6163d",
   "metadata": {},
   "outputs": [],
   "source": [
    "pop_df = pd.read_csv(\"./West Coast 2023 Datasets/Traffic, Investigations _ Other/philadelphia_population_metrics.csv\")"
   ]
  },
  {
   "cell_type": "code",
   "execution_count": 22,
   "id": "230b0720",
   "metadata": {},
   "outputs": [
    {
     "data": {
      "text/html": [
       "<div>\n",
       "<style scoped>\n",
       "    .dataframe tbody tr th:only-of-type {\n",
       "        vertical-align: middle;\n",
       "    }\n",
       "\n",
       "    .dataframe tbody tr th {\n",
       "        vertical-align: top;\n",
       "    }\n",
       "\n",
       "    .dataframe thead th {\n",
       "        text-align: right;\n",
       "    }\n",
       "</style>\n",
       "<table border=\"1\" class=\"dataframe\">\n",
       "  <thead>\n",
       "    <tr style=\"text-align: right;\">\n",
       "      <th></th>\n",
       "      <th>OBJECTID</th>\n",
       "      <th>GEOGRAPHY_NAME</th>\n",
       "      <th>GEOGRAPHY</th>\n",
       "      <th>COUNT_ALL_RACES_ETHNICITIES</th>\n",
       "      <th>COUNT_WHITE_NH</th>\n",
       "      <th>COUNT_BLACK_NH</th>\n",
       "      <th>COUNT_ASIAN_NH</th>\n",
       "      <th>COUNT_HISPANIC</th>\n",
       "      <th>PERCENT_WHITE_NH</th>\n",
       "      <th>PERCENT_BLACK_NH</th>\n",
       "      <th>PERCENT_ASIAN_NH</th>\n",
       "      <th>PERCENT_HISPANIC</th>\n",
       "      <th>Shape__Area</th>\n",
       "      <th>Shape__Length</th>\n",
       "    </tr>\n",
       "  </thead>\n",
       "  <tbody>\n",
       "    <tr>\n",
       "      <th>0</th>\n",
       "      <td>1</td>\n",
       "      <td>42101000100</td>\n",
       "      <td>Census tract</td>\n",
       "      <td>3478</td>\n",
       "      <td>2890</td>\n",
       "      <td>207</td>\n",
       "      <td>173</td>\n",
       "      <td>126</td>\n",
       "      <td>83.093732</td>\n",
       "      <td>5.951696</td>\n",
       "      <td>4.974123</td>\n",
       "      <td>3.622772</td>\n",
       "      <td>1.202257e+06</td>\n",
       "      <td>4528.078584</td>\n",
       "    </tr>\n",
       "  </tbody>\n",
       "</table>\n",
       "</div>"
      ],
      "text/plain": [
       "   OBJECTID  GEOGRAPHY_NAME     GEOGRAPHY  COUNT_ALL_RACES_ETHNICITIES  \\\n",
       "0         1     42101000100  Census tract                         3478   \n",
       "\n",
       "   COUNT_WHITE_NH  COUNT_BLACK_NH  COUNT_ASIAN_NH  COUNT_HISPANIC  \\\n",
       "0            2890             207             173             126   \n",
       "\n",
       "   PERCENT_WHITE_NH  PERCENT_BLACK_NH  PERCENT_ASIAN_NH  PERCENT_HISPANIC  \\\n",
       "0         83.093732          5.951696          4.974123          3.622772   \n",
       "\n",
       "    Shape__Area  Shape__Length  \n",
       "0  1.202257e+06    4528.078584  "
      ]
     },
     "execution_count": 22,
     "metadata": {},
     "output_type": "execute_result"
    }
   ],
   "source": [
    "pop_df.head(1)"
   ]
  },
  {
   "cell_type": "code",
   "execution_count": 7,
   "id": "34d650c0",
   "metadata": {},
   "outputs": [],
   "source": [
    "inv_df = pd.read_csv(\"./West Coast 2023 Datasets/Traffic, Investigations _ Other/investigations.csv\")"
   ]
  },
  {
   "cell_type": "code",
   "execution_count": 8,
   "id": "363057ef",
   "metadata": {},
   "outputs": [
    {
     "data": {
      "text/html": [
       "<div>\n",
       "<style scoped>\n",
       "    .dataframe tbody tr th:only-of-type {\n",
       "        vertical-align: middle;\n",
       "    }\n",
       "\n",
       "    .dataframe tbody tr th {\n",
       "        vertical-align: top;\n",
       "    }\n",
       "\n",
       "    .dataframe thead th {\n",
       "        text-align: right;\n",
       "    }\n",
       "</style>\n",
       "<table border=\"1\" class=\"dataframe\">\n",
       "  <thead>\n",
       "    <tr style=\"text-align: right;\">\n",
       "      <th></th>\n",
       "      <th>id</th>\n",
       "      <th>datetimeoccur</th>\n",
       "      <th>weekday</th>\n",
       "      <th>location</th>\n",
       "      <th>districtoccur</th>\n",
       "      <th>psa</th>\n",
       "      <th>stoptype</th>\n",
       "      <th>inside_or_outside</th>\n",
       "      <th>gender</th>\n",
       "      <th>race</th>\n",
       "      <th>...</th>\n",
       "      <th>individual_frisked</th>\n",
       "      <th>individual_searched</th>\n",
       "      <th>individual_arrested</th>\n",
       "      <th>individual_contraband</th>\n",
       "      <th>vehicle_frisked</th>\n",
       "      <th>vehicle_searched</th>\n",
       "      <th>vehicle_contraband</th>\n",
       "      <th>lat</th>\n",
       "      <th>lng</th>\n",
       "      <th>fips</th>\n",
       "    </tr>\n",
       "  </thead>\n",
       "  <tbody>\n",
       "    <tr>\n",
       "      <th>0</th>\n",
       "      <td>1767776</td>\n",
       "      <td>2014-05-14 00:00:00+00</td>\n",
       "      <td>TUESDAY</td>\n",
       "      <td>300 BLOCK S 13TH ST</td>\n",
       "      <td>6</td>\n",
       "      <td>3</td>\n",
       "      <td>pedestrian</td>\n",
       "      <td>Outside</td>\n",
       "      <td>Male</td>\n",
       "      <td>Black - Non-Latino</td>\n",
       "      <td>...</td>\n",
       "      <td>0</td>\n",
       "      <td>0</td>\n",
       "      <td>0</td>\n",
       "      <td>0</td>\n",
       "      <td>0</td>\n",
       "      <td>0</td>\n",
       "      <td>0</td>\n",
       "      <td>39.946671</td>\n",
       "      <td>-75.162656</td>\n",
       "      <td>4.210100e+11</td>\n",
       "    </tr>\n",
       "  </tbody>\n",
       "</table>\n",
       "<p>1 rows × 21 columns</p>\n",
       "</div>"
      ],
      "text/plain": [
       "        id           datetimeoccur  weekday             location  \\\n",
       "0  1767776  2014-05-14 00:00:00+00  TUESDAY  300 BLOCK S 13TH ST   \n",
       "\n",
       "   districtoccur  psa    stoptype inside_or_outside gender  \\\n",
       "0              6    3  pedestrian           Outside   Male   \n",
       "\n",
       "                 race  ...  individual_frisked  individual_searched  \\\n",
       "0  Black - Non-Latino  ...                   0                    0   \n",
       "\n",
       "   individual_arrested  individual_contraband  vehicle_frisked  \\\n",
       "0                    0                      0                0   \n",
       "\n",
       "   vehicle_searched  vehicle_contraband        lat        lng          fips  \n",
       "0                 0                   0  39.946671 -75.162656  4.210100e+11  \n",
       "\n",
       "[1 rows x 21 columns]"
      ]
     },
     "execution_count": 8,
     "metadata": {},
     "output_type": "execute_result"
    }
   ],
   "source": [
    "inv_df.head(1)"
   ]
  },
  {
   "cell_type": "code",
   "execution_count": 16,
   "id": "b1e5e843",
   "metadata": {},
   "outputs": [],
   "source": [
    "inv_df[\"fips\"] = inv_df[\"fips\"].astype('Int64')"
   ]
  },
  {
   "cell_type": "code",
   "execution_count": 17,
   "id": "a655334a",
   "metadata": {},
   "outputs": [
    {
     "data": {
      "text/html": [
       "<div>\n",
       "<style scoped>\n",
       "    .dataframe tbody tr th:only-of-type {\n",
       "        vertical-align: middle;\n",
       "    }\n",
       "\n",
       "    .dataframe tbody tr th {\n",
       "        vertical-align: top;\n",
       "    }\n",
       "\n",
       "    .dataframe thead th {\n",
       "        text-align: right;\n",
       "    }\n",
       "</style>\n",
       "<table border=\"1\" class=\"dataframe\">\n",
       "  <thead>\n",
       "    <tr style=\"text-align: right;\">\n",
       "      <th></th>\n",
       "      <th>id</th>\n",
       "      <th>datetimeoccur</th>\n",
       "      <th>weekday</th>\n",
       "      <th>location</th>\n",
       "      <th>districtoccur</th>\n",
       "      <th>psa</th>\n",
       "      <th>stoptype</th>\n",
       "      <th>inside_or_outside</th>\n",
       "      <th>gender</th>\n",
       "      <th>race</th>\n",
       "      <th>...</th>\n",
       "      <th>individual_frisked</th>\n",
       "      <th>individual_searched</th>\n",
       "      <th>individual_arrested</th>\n",
       "      <th>individual_contraband</th>\n",
       "      <th>vehicle_frisked</th>\n",
       "      <th>vehicle_searched</th>\n",
       "      <th>vehicle_contraband</th>\n",
       "      <th>lat</th>\n",
       "      <th>lng</th>\n",
       "      <th>fips</th>\n",
       "    </tr>\n",
       "  </thead>\n",
       "  <tbody>\n",
       "    <tr>\n",
       "      <th>0</th>\n",
       "      <td>1767776</td>\n",
       "      <td>2014-05-14 00:00:00+00</td>\n",
       "      <td>TUESDAY</td>\n",
       "      <td>300 BLOCK S 13TH ST</td>\n",
       "      <td>6</td>\n",
       "      <td>3</td>\n",
       "      <td>pedestrian</td>\n",
       "      <td>Outside</td>\n",
       "      <td>Male</td>\n",
       "      <td>Black - Non-Latino</td>\n",
       "      <td>...</td>\n",
       "      <td>0</td>\n",
       "      <td>0</td>\n",
       "      <td>0</td>\n",
       "      <td>0</td>\n",
       "      <td>0</td>\n",
       "      <td>0</td>\n",
       "      <td>0</td>\n",
       "      <td>39.946671</td>\n",
       "      <td>-75.162656</td>\n",
       "      <td>421010011014</td>\n",
       "    </tr>\n",
       "  </tbody>\n",
       "</table>\n",
       "<p>1 rows × 21 columns</p>\n",
       "</div>"
      ],
      "text/plain": [
       "        id           datetimeoccur  weekday             location  \\\n",
       "0  1767776  2014-05-14 00:00:00+00  TUESDAY  300 BLOCK S 13TH ST   \n",
       "\n",
       "   districtoccur  psa    stoptype inside_or_outside gender  \\\n",
       "0              6    3  pedestrian           Outside   Male   \n",
       "\n",
       "                 race  ...  individual_frisked  individual_searched  \\\n",
       "0  Black - Non-Latino  ...                   0                    0   \n",
       "\n",
       "   individual_arrested  individual_contraband  vehicle_frisked  \\\n",
       "0                    0                      0                0   \n",
       "\n",
       "   vehicle_searched  vehicle_contraband        lat        lng          fips  \n",
       "0                 0                   0  39.946671 -75.162656  421010011014  \n",
       "\n",
       "[1 rows x 21 columns]"
      ]
     },
     "execution_count": 17,
     "metadata": {},
     "output_type": "execute_result"
    }
   ],
   "source": [
    "inv_df.head(1)"
   ]
  },
  {
   "cell_type": "code",
   "execution_count": 20,
   "id": "bccc3ce6",
   "metadata": {},
   "outputs": [],
   "source": [
    "groups = inv_df.groupby(['fips'])"
   ]
  },
  {
   "cell_type": "raw",
   "id": "6ddc543c",
   "metadata": {},
   "source": [
    "roups[\"gender\"]"
   ]
  },
  {
   "cell_type": "code",
   "execution_count": 21,
   "id": "f90ae038",
   "metadata": {},
   "outputs": [
    {
     "data": {
      "text/plain": [
       "<pandas.core.groupby.generic.SeriesGroupBy object at 0x7f9e6e9bb460>"
      ]
     },
     "execution_count": 21,
     "metadata": {},
     "output_type": "execute_result"
    }
   ],
   "source": []
  },
  {
   "cell_type": "code",
   "execution_count": null,
   "id": "6a3a3229",
   "metadata": {},
   "outputs": [],
   "source": []
  }
 ],
 "metadata": {
  "kernelspec": {
   "display_name": "Python 3 (ipykernel)",
   "language": "python",
   "name": "python3"
  },
  "language_info": {
   "codemirror_mode": {
    "name": "ipython",
    "version": 3
   },
   "file_extension": ".py",
   "mimetype": "text/x-python",
   "name": "python",
   "nbconvert_exporter": "python",
   "pygments_lexer": "ipython3",
   "version": "3.8.3"
  }
 },
 "nbformat": 4,
 "nbformat_minor": 5
}
